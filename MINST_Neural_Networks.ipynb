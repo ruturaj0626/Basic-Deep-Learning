{
  "cells": [
    {
      "cell_type": "markdown",
      "metadata": {
        "id": "view-in-github",
        "colab_type": "text"
      },
      "source": [
        "<a href=\"https://colab.research.google.com/github/ruturaj0626/DeepLearning/blob/main/MINST_Neural_Networks.ipynb\" target=\"_parent\"><img src=\"https://colab.research.google.com/assets/colab-badge.svg\" alt=\"Open In Colab\"/></a>"
      ]
    },
    {
      "cell_type": "markdown",
      "metadata": {
        "collapsed": true,
        "id": "FPGBNNIoNGj9"
      },
      "source": [
        "# Introduction to Neural Networks"
      ]
    },
    {
      "cell_type": "markdown",
      "metadata": {
        "id": "SMBbSa2wNGkG"
      },
      "source": [
        "## Import packages"
      ]
    },
    {
      "cell_type": "code",
      "execution_count": 165,
      "metadata": {
        "id": "sE-eZAFENGkI"
      },
      "outputs": [],
      "source": [
        "from keras.datasets import mnist\n",
        "from tensorflow.keras.utils import load_img, array_to_img\n",
        "from keras.utils.np_utils import to_categorical\n",
        "from keras.models import Sequential\n",
        "from keras.layers import Dense # ensures that its a full connected layer\n",
        "\n",
        "import numpy as np\n",
        "import matplotlib.pyplot as plt\n",
        "%matplotlib inline"
      ]
    },
    {
      "cell_type": "markdown",
      "metadata": {
        "id": "fiDW5YFoNGkL"
      },
      "source": [
        "## Load the data"
      ]
    },
    {
      "cell_type": "code",
      "execution_count": 166,
      "metadata": {
        "scrolled": true,
        "id": "te289SYENGkM"
      },
      "outputs": [],
      "source": [
        "(xtrain, ytrain), (xtest, ytest) = mnist.load_data() # fixed format"
      ]
    },
    {
      "cell_type": "code",
      "execution_count": 167,
      "metadata": {
        "id": "UhmbsAypNGkN",
        "outputId": "dad33e05-c99c-45c8-d9c7-5e325e1d8410",
        "colab": {
          "base_uri": "https://localhost:8080/"
        }
      },
      "outputs": [
        {
          "output_type": "stream",
          "name": "stdout",
          "text": [
            "(60000, 28, 28)\n",
            "(60000,)\n",
            "(10000, 28, 28)\n",
            "(10000,)\n"
          ]
        }
      ],
      "source": [
        "print(xtrain.shape)\n",
        "print(ytrain.shape)\n",
        "print(xtest.shape)\n",
        "print(ytest.shape)"
      ]
    },
    {
      "cell_type": "markdown",
      "metadata": {
        "collapsed": true,
        "id": "jTk5UaLHNGkP"
      },
      "source": [
        "## Understanding the image data format"
      ]
    },
    {
      "cell_type": "code",
      "execution_count": 168,
      "metadata": {
        "id": "6_SuWvV5NGkP",
        "colab": {
          "base_uri": "https://localhost:8080/"
        },
        "outputId": "af54b017-1eeb-43f6-c807-bced196d4bb2"
      },
      "outputs": [
        {
          "output_type": "execute_result",
          "data": {
            "text/plain": [
              "(28, 28)"
            ]
          },
          "metadata": {},
          "execution_count": 168
        }
      ],
      "source": [
        "xtrain[0].shape"
      ]
    },
    {
      "cell_type": "code",
      "execution_count": 169,
      "metadata": {
        "id": "Q6XP_E0hNGkQ",
        "colab": {
          "base_uri": "https://localhost:8080/",
          "height": 282
        },
        "outputId": "b3a2ac53-5aad-4cda-f7f9-dca8a2dd409f"
      },
      "outputs": [
        {
          "output_type": "execute_result",
          "data": {
            "text/plain": [
              "<matplotlib.image.AxesImage at 0x7f4260ee9b20>"
            ]
          },
          "metadata": {},
          "execution_count": 169
        },
        {
          "output_type": "display_data",
          "data": {
            "text/plain": [
              "<Figure size 432x288 with 1 Axes>"
            ],
            "image/png": "[encoded data removed]"
          },
          "metadata": {
            "needs_background": "light"
          }
        }
      ],
      "source": [
        "plt.imshow(xtrain[5],cmap='gray')"
      ]
    },
    {
      "cell_type": "code",
      "execution_count": 170,
      "metadata": {
        "id": "3TWkNtz7NGkR",
        "colab": {
          "base_uri": "https://localhost:8080/"
        },
        "outputId": "51837d24-2b0e-46d9-8fcb-7fcd738c493d"
      },
      "outputs": [
        {
          "output_type": "execute_result",
          "data": {
            "text/plain": [
              "2"
            ]
          },
          "metadata": {},
          "execution_count": 170
        }
      ],
      "source": [
        "ytrain[5]"
      ]
    },
    {
      "cell_type": "code",
      "execution_count": 170,
      "metadata": {
        "id": "njCNLgePNGkS"
      },
      "outputs": [],
      "source": []
    },
    {
      "cell_type": "markdown",
      "metadata": {
        "id": "HdbDN_QCNGkS"
      },
      "source": [
        "## Preprocessing the image data"
      ]
    },
    {
      "cell_type": "code",
      "execution_count": 171,
      "metadata": {
        "id": "9kIo9JvnNGkT"
      },
      "outputs": [],
      "source": [
        "image_height,image_width = 28,28"
      ]
    },
    {
      "cell_type": "code",
      "execution_count": 172,
      "metadata": {
        "id": "BULAohslNGkT",
        "colab": {
          "base_uri": "https://localhost:8080/"
        },
        "outputId": "d7d05534-a171-41d9-d4a0-d20f2477be6a"
      },
      "outputs": [
        {
          "output_type": "stream",
          "name": "stdout",
          "text": [
            "(60000, 784)\n",
            "(10000, 784)\n"
          ]
        }
      ],
      "source": [
        "xtrain = xtrain.reshape(60000,image_height*image_width)\n",
        "xtest = xtest.reshape(10000,image_height*image_width)\n",
        "print(xtrain.shape)\n",
        "print(xtest.shape)"
      ]
    },
    {
      "cell_type": "code",
      "execution_count": 173,
      "metadata": {
        "id": "2PraP0NXNGkT",
        "colab": {
          "base_uri": "https://localhost:8080/"
        },
        "outputId": "787266eb-e935-4e98-848a-bbd19387cc2f"
      },
      "outputs": [
        {
          "output_type": "stream",
          "name": "stdout",
          "text": [
            "[  0.   0.   0.   0.   0.   0.   0.   0.   0.   0.   0.   0.   0.   0.\n",
            "   0.   0.   0.   0.   0.   0.   0.   0.   0.   0.   0.   0.   0.   0.\n",
            "   0.   0.   0.   0.   0.   0.   0.   0.   0.   0.   0.   0.   0.   0.\n",
            "   0.   0.   0.   0.   0.   0.   0.   0.   0.   0.   0.   0.   0.   0.\n",
            "   0.   0.   0.   0.   0.   0.   0.   0.   0.   0.   0.   0.   0.   0.\n",
            "   0.   0.   0.   0.   0.   0.   0.   0.   0.   0.   0.   0.   0.   0.\n",
            "   0.   0.   0.   0.   0.   0.   0.   0.   0.   0.   0.   0.   0.   0.\n",
            "   0.   0.   0.   0.   0.   0.   0.   0.   0.   0.   0.   0.   0.   0.\n",
            "   0.   0.   0.   0.   0.   0.   0.   0.   0.   0.   0.   0.   0.   0.\n",
            "   0.   0.   0.   0.   0.   0.   0.   0.   0.   0.   0.   0.   0.   0.\n",
            "   0.   0.   0.   0.   0.   0.   0.   0.   0.   0.   0.   0.   0.   0.\n",
            "   0.  13.  25. 100. 122.   7.   0.   0.   0.   0.   0.   0.   0.   0.\n",
            "   0.   0.   0.   0.   0.   0.   0.   0.   0.   0.   0.   0.   0.  33.\n",
            " 151. 208. 252. 252. 252. 146.   0.   0.   0.   0.   0.   0.   0.   0.\n",
            "   0.   0.   0.   0.   0.   0.   0.   0.   0.   0.   0.  40. 152. 244.\n",
            " 252. 253. 224. 211. 252. 232.  40.   0.   0.   0.   0.   0.   0.   0.\n",
            "   0.   0.   0.   0.   0.   0.   0.   0.   0.  15. 152. 239. 252. 252.\n",
            " 252. 216.  31.  37. 252. 252.  60.   0.   0.   0.   0.   0.   0.   0.\n",
            "   0.   0.   0.   0.   0.   0.   0.   0.   0.  96. 252. 252. 252. 252.\n",
            " 217.  29.   0.  37. 252. 252.  60.   0.   0.   0.   0.   0.   0.   0.\n",
            "   0.   0.   0.   0.   0.   0.   0.   0.   0. 181. 252. 252. 220. 167.\n",
            "  30.   0.   0.  77. 252. 252.  60.   0.   0.   0.   0.   0.   0.   0.\n",
            "   0.   0.   0.   0.   0.   0.   0.   0.   0.  26. 128.  58.  22.   0.\n",
            "   0.   0.   0. 100. 252. 252.  60.   0.   0.   0.   0.   0.   0.   0.\n",
            "   0.   0.   0.   0.   0.   0.   0.   0.   0.   0.   0.   0.   0.   0.\n",
            "   0.   0.   0. 157. 252. 252.  60.   0.   0.   0.   0.   0.   0.   0.\n",
            "   0.   0.   0.   0.   0.   0.   0.   0.   0.   0.   0.   0.   0. 110.\n",
            " 121. 122. 121. 202. 252. 194.   3.   0.   0.   0.   0.   0.   0.   0.\n",
            "   0.   0.   0.   0.   0.   0.   0.   0.   0.   0.  10.  53. 179. 253.\n",
            " 253. 255. 253. 253. 228.  35.   0.   0.   0.   0.   0.   0.   0.   0.\n",
            "   0.   0.   0.   0.   0.   0.   0.   0.   5.  54. 227. 252. 243. 228.\n",
            " 170. 242. 252. 252. 231. 117.   6.   0.   0.   0.   0.   0.   0.   0.\n",
            "   0.   0.   0.   0.   0.   0.   0.   6.  78. 252. 252. 125.  59.   0.\n",
            "  18. 208. 252. 252. 252. 252.  87.   7.   0.   0.   0.   0.   0.   0.\n",
            "   0.   0.   0.   0.   0.   0.   5. 135. 252. 252. 180.  16.   0.  21.\n",
            " 203. 253. 247. 129. 173. 252. 252. 184.  66.  49.  49.   0.   0.   0.\n",
            "   0.   0.   0.   0.   0.   3. 136. 252. 241. 106.  17.   0.  53. 200.\n",
            " 252. 216.  65.   0.  14.  72. 163. 241. 252. 252. 223.   0.   0.   0.\n",
            "   0.   0.   0.   0.   0. 105. 252. 242.  88.  18.  73. 170. 244. 252.\n",
            " 126.  29.   0.   0.   0.   0.   0.  89. 180. 180.  37.   0.   0.   0.\n",
            "   0.   0.   0.   0.   0. 231. 252. 245. 205. 216. 252. 252. 252. 124.\n",
            "   3.   0.   0.   0.   0.   0.   0.   0.   0.   0.   0.   0.   0.   0.\n",
            "   0.   0.   0.   0.   0. 207. 252. 252. 252. 252. 178. 116.  36.   4.\n",
            "   0.   0.   0.   0.   0.   0.   0.   0.   0.   0.   0.   0.   0.   0.\n",
            "   0.   0.   0.   0.   0.  13.  93. 143. 121.  23.   6.   0.   0.   0.\n",
            "   0.   0.   0.   0.   0.   0.   0.   0.   0.   0.   0.   0.   0.   0.\n",
            "   0.   0.   0.   0.   0.   0.   0.   0.   0.   0.   0.   0.   0.   0.\n",
            "   0.   0.   0.   0.   0.   0.   0.   0.   0.   0.   0.   0.   0.   0.\n",
            "   0.   0.   0.   0.   0.   0.   0.   0.   0.   0.   0.   0.   0.   0.\n",
            "   0.   0.   0.   0.   0.   0.   0.   0.   0.   0.   0.   0.   0.   0.\n",
            "   0.   0.   0.   0.   0.   0.   0.   0.   0.   0.   0.   0.   0.   0.\n",
            "   0.   0.   0.   0.   0.   0.   0.   0.   0.   0.   0.   0.   0.   0.\n",
            "   0.   0.   0.   0.   0.   0.   0.   0.   0.   0.   0.   0.   0.   0.\n",
            "   0.   0.   0.   0.   0.   0.   0.   0.   0.   0.   0.   0.   0.   0.\n",
            "   0.   0.   0.   0.   0.   0.   0.   0.   0.   0.   0.   0.   0.   0.\n",
            "   0.   0.   0.   0.   0.   0.   0.   0.   0.   0.   0.   0.   0.   0.]\n"
          ]
        }
      ],
      "source": [
        "xtrain = xtrain.astype(float)\n",
        "xtest = xtest.astype(float)\n",
        "print(xtrain[5])"
      ]
    },
    {
      "cell_type": "code",
      "execution_count": 174,
      "metadata": {
        "id": "La-abCHmNGkU"
      },
      "outputs": [],
      "source": [
        "xtrain = xtrain / 255.0 # so we can have all array in between 1 to 0 \n",
        "xtest = xtest /  255.0"
      ]
    },
    {
      "cell_type": "code",
      "execution_count": 175,
      "metadata": {
        "id": "9btYmmqhNGkU",
        "colab": {
          "base_uri": "https://localhost:8080/"
        },
        "outputId": "467eeecd-bf42-4913-f73f-5083313ffb87"
      },
      "outputs": [
        {
          "output_type": "stream",
          "name": "stdout",
          "text": [
            "[0.         0.         0.         0.         0.         0.\n",
            " 0.         0.         0.         0.         0.         0.\n",
            " 0.         0.         0.         0.         0.         0.\n",
            " 0.         0.         0.         0.         0.         0.\n",
            " 0.         0.         0.         0.         0.         0.\n",
            " 0.         0.         0.         0.         0.         0.\n",
            " 0.         0.         0.         0.         0.         0.\n",
            " 0.         0.         0.         0.         0.         0.\n",
            " 0.         0.         0.         0.         0.         0.\n",
            " 0.         0.         0.         0.         0.         0.\n",
            " 0.         0.         0.         0.         0.         0.\n",
            " 0.         0.         0.         0.         0.         0.\n",
            " 0.         0.         0.         0.         0.         0.\n",
            " 0.         0.         0.         0.         0.         0.\n",
            " 0.         0.         0.         0.         0.         0.\n",
            " 0.         0.         0.         0.         0.         0.\n",
            " 0.         0.         0.         0.         0.         0.\n",
            " 0.         0.         0.         0.         0.         0.\n",
            " 0.         0.         0.         0.         0.         0.\n",
            " 0.         0.         0.         0.         0.         0.\n",
            " 0.         0.         0.         0.         0.         0.\n",
            " 0.         0.         0.         0.         0.         0.\n",
            " 0.         0.         0.         0.         0.         0.\n",
            " 0.         0.         0.         0.         0.         0.\n",
            " 0.         0.         0.         0.         0.         0.\n",
            " 0.         0.         0.         0.         0.         0.05098039\n",
            " 0.09803922 0.39215686 0.47843137 0.02745098 0.         0.\n",
            " 0.         0.         0.         0.         0.         0.\n",
            " 0.         0.         0.         0.         0.         0.\n",
            " 0.         0.         0.         0.         0.         0.\n",
            " 0.         0.12941176 0.59215686 0.81568627 0.98823529 0.98823529\n",
            " 0.98823529 0.57254902 0.         0.         0.         0.\n",
            " 0.         0.         0.         0.         0.         0.\n",
            " 0.         0.         0.         0.         0.         0.\n",
            " 0.         0.         0.         0.15686275 0.59607843 0.95686275\n",
            " 0.98823529 0.99215686 0.87843137 0.82745098 0.98823529 0.90980392\n",
            " 0.15686275 0.         0.         0.         0.         0.\n",
            " 0.         0.         0.         0.         0.         0.\n",
            " 0.         0.         0.         0.         0.         0.05882353\n",
            " 0.59607843 0.9372549  0.98823529 0.98823529 0.98823529 0.84705882\n",
            " 0.12156863 0.14509804 0.98823529 0.98823529 0.23529412 0.\n",
            " 0.         0.         0.         0.         0.         0.\n",
            " 0.         0.         0.         0.         0.         0.\n",
            " 0.         0.         0.         0.37647059 0.98823529 0.98823529\n",
            " 0.98823529 0.98823529 0.85098039 0.11372549 0.         0.14509804\n",
            " 0.98823529 0.98823529 0.23529412 0.         0.         0.\n",
            " 0.         0.         0.         0.         0.         0.\n",
            " 0.         0.         0.         0.         0.         0.\n",
            " 0.         0.70980392 0.98823529 0.98823529 0.8627451  0.65490196\n",
            " 0.11764706 0.         0.         0.30196078 0.98823529 0.98823529\n",
            " 0.23529412 0.         0.         0.         0.         0.\n",
            " 0.         0.         0.         0.         0.         0.\n",
            " 0.         0.         0.         0.         0.         0.10196078\n",
            " 0.50196078 0.22745098 0.08627451 0.         0.         0.\n",
            " 0.         0.39215686 0.98823529 0.98823529 0.23529412 0.\n",
            " 0.         0.         0.         0.         0.         0.\n",
            " 0.         0.         0.         0.         0.         0.\n",
            " 0.         0.         0.         0.         0.         0.\n",
            " 0.         0.         0.         0.         0.         0.61568627\n",
            " 0.98823529 0.98823529 0.23529412 0.         0.         0.\n",
            " 0.         0.         0.         0.         0.         0.\n",
            " 0.         0.         0.         0.         0.         0.\n",
            " 0.         0.         0.         0.         0.         0.43137255\n",
            " 0.4745098  0.47843137 0.4745098  0.79215686 0.98823529 0.76078431\n",
            " 0.01176471 0.         0.         0.         0.         0.\n",
            " 0.         0.         0.         0.         0.         0.\n",
            " 0.         0.         0.         0.         0.         0.\n",
            " 0.03921569 0.20784314 0.70196078 0.99215686 0.99215686 1.\n",
            " 0.99215686 0.99215686 0.89411765 0.1372549  0.         0.\n",
            " 0.         0.         0.         0.         0.         0.\n",
            " 0.         0.         0.         0.         0.         0.\n",
            " 0.         0.         0.01960784 0.21176471 0.89019608 0.98823529\n",
            " 0.95294118 0.89411765 0.66666667 0.94901961 0.98823529 0.98823529\n",
            " 0.90588235 0.45882353 0.02352941 0.         0.         0.\n",
            " 0.         0.         0.         0.         0.         0.\n",
            " 0.         0.         0.         0.         0.         0.02352941\n",
            " 0.30588235 0.98823529 0.98823529 0.49019608 0.23137255 0.\n",
            " 0.07058824 0.81568627 0.98823529 0.98823529 0.98823529 0.98823529\n",
            " 0.34117647 0.02745098 0.         0.         0.         0.\n",
            " 0.         0.         0.         0.         0.         0.\n",
            " 0.         0.         0.01960784 0.52941176 0.98823529 0.98823529\n",
            " 0.70588235 0.0627451  0.         0.08235294 0.79607843 0.99215686\n",
            " 0.96862745 0.50588235 0.67843137 0.98823529 0.98823529 0.72156863\n",
            " 0.25882353 0.19215686 0.19215686 0.         0.         0.\n",
            " 0.         0.         0.         0.         0.         0.01176471\n",
            " 0.53333333 0.98823529 0.94509804 0.41568627 0.06666667 0.\n",
            " 0.20784314 0.78431373 0.98823529 0.84705882 0.25490196 0.\n",
            " 0.05490196 0.28235294 0.63921569 0.94509804 0.98823529 0.98823529\n",
            " 0.8745098  0.         0.         0.         0.         0.\n",
            " 0.         0.         0.         0.41176471 0.98823529 0.94901961\n",
            " 0.34509804 0.07058824 0.28627451 0.66666667 0.95686275 0.98823529\n",
            " 0.49411765 0.11372549 0.         0.         0.         0.\n",
            " 0.         0.34901961 0.70588235 0.70588235 0.14509804 0.\n",
            " 0.         0.         0.         0.         0.         0.\n",
            " 0.         0.90588235 0.98823529 0.96078431 0.80392157 0.84705882\n",
            " 0.98823529 0.98823529 0.98823529 0.48627451 0.01176471 0.\n",
            " 0.         0.         0.         0.         0.         0.\n",
            " 0.         0.         0.         0.         0.         0.\n",
            " 0.         0.         0.         0.         0.         0.81176471\n",
            " 0.98823529 0.98823529 0.98823529 0.98823529 0.69803922 0.45490196\n",
            " 0.14117647 0.01568627 0.         0.         0.         0.\n",
            " 0.         0.         0.         0.         0.         0.\n",
            " 0.         0.         0.         0.         0.         0.\n",
            " 0.         0.         0.         0.05098039 0.36470588 0.56078431\n",
            " 0.4745098  0.09019608 0.02352941 0.         0.         0.\n",
            " 0.         0.         0.         0.         0.         0.\n",
            " 0.         0.         0.         0.         0.         0.\n",
            " 0.         0.         0.         0.         0.         0.\n",
            " 0.         0.         0.         0.         0.         0.\n",
            " 0.         0.         0.         0.         0.         0.\n",
            " 0.         0.         0.         0.         0.         0.\n",
            " 0.         0.         0.         0.         0.         0.\n",
            " 0.         0.         0.         0.         0.         0.\n",
            " 0.         0.         0.         0.         0.         0.\n",
            " 0.         0.         0.         0.         0.         0.\n",
            " 0.         0.         0.         0.         0.         0.\n",
            " 0.         0.         0.         0.         0.         0.\n",
            " 0.         0.         0.         0.         0.         0.\n",
            " 0.         0.         0.         0.         0.         0.\n",
            " 0.         0.         0.         0.         0.         0.\n",
            " 0.         0.         0.         0.         0.         0.\n",
            " 0.         0.         0.         0.         0.         0.\n",
            " 0.         0.         0.         0.         0.         0.\n",
            " 0.         0.         0.         0.         0.         0.\n",
            " 0.         0.         0.         0.         0.         0.\n",
            " 0.         0.         0.         0.         0.         0.\n",
            " 0.         0.         0.         0.         0.         0.\n",
            " 0.         0.         0.         0.         0.         0.\n",
            " 0.         0.         0.         0.         0.         0.\n",
            " 0.         0.         0.         0.         0.         0.\n",
            " 0.         0.         0.         0.        ]\n"
          ]
        }
      ],
      "source": [
        "print(xtrain[5])"
      ]
    },
    {
      "cell_type": "code",
      "source": [
        "print(ytrain.shape)\n",
        "print(ytest.shape)"
      ],
      "metadata": {
        "colab": {
          "base_uri": "https://localhost:8080/"
        },
        "id": "6RBDDK8hbPBM",
        "outputId": "83cc734f-d717-4797-9b51-af1872858f05"
      },
      "execution_count": 176,
      "outputs": [
        {
          "output_type": "stream",
          "name": "stdout",
          "text": [
            "(60000,)\n",
            "(10000,)\n"
          ]
        }
      ]
    },
    {
      "cell_type": "code",
      "source": [
        "ytrain = to_categorical(ytrain,10)\n",
        "ytest = to_categorical(ytest,10)"
      ],
      "metadata": {
        "id": "g6OwBqpubXN8"
      },
      "execution_count": 177,
      "outputs": []
    },
    {
      "cell_type": "code",
      "source": [
        "print(ytrain.shape)\n",
        "print(ytest.shape)"
      ],
      "metadata": {
        "colab": {
          "base_uri": "https://localhost:8080/"
        },
        "id": "_jD6XF1TbXLT",
        "outputId": "cccec182-da2a-4024-eef3-ac13ecee6038"
      },
      "execution_count": 178,
      "outputs": [
        {
          "output_type": "stream",
          "name": "stdout",
          "text": [
            "(60000, 10)\n",
            "(10000, 10)\n"
          ]
        }
      ]
    },
    {
      "cell_type": "markdown",
      "metadata": {
        "collapsed": true,
        "id": "CUlnxBzMNGkU"
      },
      "source": [
        "## Build a model"
      ]
    },
    {
      "cell_type": "code",
      "execution_count": 179,
      "metadata": {
        "id": "v81xXwHINGkV"
      },
      "outputs": [],
      "source": [
        "model = Sequential()"
      ]
    },
    {
      "cell_type": "code",
      "execution_count": 180,
      "metadata": {
        "id": "8D3kE6WQNGkV"
      },
      "outputs": [],
      "source": [
        "model.add(Dense(512,activation='relu',input_shape=(784,))) # Layer 1 , 512 are the output nodes,784 are pixels \n",
        "model.add(Dense(512,activation='relu')) # layer 2 , no need for input node as keras takes care of it \n",
        "model.add(Dense(10,activation='softmax')) # output of 10 nodes because we want output from one of the 10 "
      ]
    },
    {
      "cell_type": "markdown",
      "metadata": {
        "collapsed": true,
        "id": "9maYFr4zNGkW"
      },
      "source": [
        "## Compile the model"
      ]
    },
    {
      "cell_type": "code",
      "execution_count": 181,
      "metadata": {
        "id": "oujATjWRNGkX"
      },
      "outputs": [],
      "source": [
        "model.compile(optimizer='adam',loss='categorical_crossentropy',metrics=['accuracy'])"
      ]
    },
    {
      "cell_type": "code",
      "execution_count": 182,
      "metadata": {
        "id": "8xvFVrRlNGkX",
        "colab": {
          "base_uri": "https://localhost:8080/"
        },
        "outputId": "a1d164bc-9f61-4c38-efca-dad4c6aad8cd"
      },
      "outputs": [
        {
          "output_type": "stream",
          "name": "stdout",
          "text": [
            "Model: \"sequential_8\"\n",
            "_________________________________________________________________\n",
            " Layer (type)                Output Shape              Param #   \n",
            "=================================================================\n",
            " dense_20 (Dense)            (None, 512)               401920    \n",
            "                                                                 \n",
            " dense_21 (Dense)            (None, 512)               262656    \n",
            "                                                                 \n",
            " dense_22 (Dense)            (None, 10)                5130      \n",
            "                                                                 \n",
            "=================================================================\n",
            "Total params: 669,706\n",
            "Trainable params: 669,706\n",
            "Non-trainable params: 0\n",
            "_________________________________________________________________\n"
          ]
        }
      ],
      "source": [
        "model.summary()"
      ]
    },
    {
      "cell_type": "code",
      "execution_count": 183,
      "metadata": {
        "id": "3907ZD9cNGkX",
        "colab": {
          "base_uri": "https://localhost:8080/"
        },
        "outputId": "63f75f84-95ce-4ce9-fca4-2847f4d8bac1"
      },
      "outputs": [
        {
          "output_type": "execute_result",
          "data": {
            "text/plain": [
              "401920"
            ]
          },
          "metadata": {},
          "execution_count": 183
        }
      ],
      "source": [
        "# pixels * nodes + bias \n",
        "784 * 512 + 512 \n",
        "\n",
        "#   Layer (type)                Output Shape              Param #   \n",
        "#   =================================================================\n",
        "#   dense (Dense)               (None, 512)               401920    \n",
        "\n"
      ]
    },
    {
      "cell_type": "code",
      "execution_count": 184,
      "metadata": {
        "id": "taUy7JHVNGkX",
        "colab": {
          "base_uri": "https://localhost:8080/"
        },
        "outputId": "98cd98e1-e726-40b3-c514-fa6413b86bfb"
      },
      "outputs": [
        {
          "output_type": "execute_result",
          "data": {
            "text/plain": [
              "264192"
            ]
          },
          "metadata": {},
          "execution_count": 184
        }
      ],
      "source": [
        "515*512+512"
      ]
    },
    {
      "cell_type": "code",
      "source": [
        "512*10+10"
      ],
      "metadata": {
        "colab": {
          "base_uri": "https://localhost:8080/"
        },
        "id": "UDLHpuDPeYza",
        "outputId": "630d366d-00d0-4096-ae15-525f9d0793a0"
      },
      "execution_count": 185,
      "outputs": [
        {
          "output_type": "execute_result",
          "data": {
            "text/plain": [
              "5130"
            ]
          },
          "metadata": {},
          "execution_count": 185
        }
      ]
    },
    {
      "cell_type": "markdown",
      "metadata": {
        "collapsed": true,
        "id": "F0B4TOSCNGkX"
      },
      "source": [
        "## Train the model"
      ]
    },
    {
      "cell_type": "code",
      "execution_count": 186,
      "metadata": {
        "id": "zd8NzTrwNGkY",
        "colab": {
          "base_uri": "https://localhost:8080/"
        },
        "outputId": "835c194a-f16c-4914-a171-fa6d764cd279"
      },
      "outputs": [
        {
          "output_type": "stream",
          "name": "stdout",
          "text": [
            "Epoch 1/20\n",
            "1875/1875 [==============================] - 20s 11ms/step - loss: 0.1833 - accuracy: 0.9440 - val_loss: 0.0944 - val_accuracy: 0.9708\n",
            "Epoch 2/20\n",
            "1875/1875 [==============================] - 21s 11ms/step - loss: 0.0805 - accuracy: 0.9751 - val_loss: 0.0826 - val_accuracy: 0.9752\n",
            "Epoch 3/20\n",
            "1875/1875 [==============================] - 20s 11ms/step - loss: 0.0550 - accuracy: 0.9822 - val_loss: 0.0690 - val_accuracy: 0.9811\n",
            "Epoch 4/20\n",
            "1875/1875 [==============================] - 19s 10ms/step - loss: 0.0413 - accuracy: 0.9870 - val_loss: 0.0710 - val_accuracy: 0.9807\n",
            "Epoch 5/20\n",
            "1875/1875 [==============================] - 21s 11ms/step - loss: 0.0335 - accuracy: 0.9901 - val_loss: 0.0982 - val_accuracy: 0.9767\n",
            "Epoch 6/20\n",
            "1875/1875 [==============================] - 20s 11ms/step - loss: 0.0285 - accuracy: 0.9906 - val_loss: 0.0863 - val_accuracy: 0.9796\n",
            "Epoch 7/20\n",
            "1875/1875 [==============================] - 21s 11ms/step - loss: 0.0258 - accuracy: 0.9918 - val_loss: 0.1042 - val_accuracy: 0.9787\n",
            "Epoch 8/20\n",
            "1875/1875 [==============================] - 24s 13ms/step - loss: 0.0221 - accuracy: 0.9932 - val_loss: 0.0921 - val_accuracy: 0.9811\n",
            "Epoch 9/20\n",
            "1875/1875 [==============================] - 19s 10ms/step - loss: 0.0215 - accuracy: 0.9938 - val_loss: 0.0932 - val_accuracy: 0.9796\n",
            "Epoch 10/20\n",
            "1875/1875 [==============================] - 21s 11ms/step - loss: 0.0153 - accuracy: 0.9952 - val_loss: 0.1221 - val_accuracy: 0.9766\n",
            "Epoch 11/20\n",
            "1875/1875 [==============================] - 21s 11ms/step - loss: 0.0194 - accuracy: 0.9945 - val_loss: 0.0900 - val_accuracy: 0.9821\n",
            "Epoch 12/20\n",
            "1875/1875 [==============================] - 19s 10ms/step - loss: 0.0166 - accuracy: 0.9951 - val_loss: 0.1045 - val_accuracy: 0.9811\n",
            "Epoch 13/20\n",
            "1875/1875 [==============================] - 18s 10ms/step - loss: 0.0164 - accuracy: 0.9954 - val_loss: 0.1097 - val_accuracy: 0.9813\n",
            "Epoch 14/20\n",
            "1875/1875 [==============================] - 18s 10ms/step - loss: 0.0156 - accuracy: 0.9958 - val_loss: 0.1051 - val_accuracy: 0.9821\n",
            "Epoch 15/20\n",
            "1875/1875 [==============================] - 18s 10ms/step - loss: 0.0113 - accuracy: 0.9967 - val_loss: 0.1321 - val_accuracy: 0.9810\n",
            "Epoch 16/20\n",
            "1875/1875 [==============================] - 19s 10ms/step - loss: 0.0143 - accuracy: 0.9959 - val_loss: 0.1190 - val_accuracy: 0.9816\n",
            "Epoch 17/20\n",
            "1875/1875 [==============================] - 20s 11ms/step - loss: 0.0142 - accuracy: 0.9964 - val_loss: 0.1122 - val_accuracy: 0.9835\n",
            "Epoch 18/20\n",
            "1875/1875 [==============================] - 20s 11ms/step - loss: 0.0123 - accuracy: 0.9970 - val_loss: 0.1290 - val_accuracy: 0.9802\n",
            "Epoch 19/20\n",
            "1875/1875 [==============================] - 21s 11ms/step - loss: 0.0118 - accuracy: 0.9970 - val_loss: 0.1284 - val_accuracy: 0.9824\n",
            "Epoch 20/20\n",
            "1875/1875 [==============================] - 21s 11ms/step - loss: 0.0137 - accuracy: 0.9966 - val_loss: 0.1274 - val_accuracy: 0.9827\n"
          ]
        }
      ],
      "source": [
        "history = model.fit(xtrain,ytrain,epochs=20,validation_data=(xtest,ytest))"
      ]
    },
    {
      "cell_type": "markdown",
      "metadata": {
        "id": "WrQH9rW6NGkY"
      },
      "source": [
        "## What is the accuracy of the model?"
      ]
    },
    {
      "cell_type": "markdown",
      "metadata": {
        "id": "7Wai3u5nNGkZ"
      },
      "source": [
        "### Plot the accuracy of the training model"
      ]
    },
    {
      "cell_type": "code",
      "execution_count": 187,
      "metadata": {
        "id": "KZmWb0OHNGkZ",
        "colab": {
          "base_uri": "https://localhost:8080/",
          "height": 282
        },
        "outputId": "2e9ce773-7538-45da-e90a-68cdc572b920"
      },
      "outputs": [
        {
          "output_type": "execute_result",
          "data": {
            "text/plain": [
              "[<matplotlib.lines.Line2D at 0x7f425cd8d3a0>]"
            ]
          },
          "metadata": {},
          "execution_count": 187
        },
        {
          "output_type": "display_data",
          "data": {
            "text/plain": [
              "<Figure size 432x288 with 1 Axes>"
            ],
            "image/png": "[encoded data removed]"
          },
          "metadata": {
            "needs_background": "light"
          }
        }
      ],
      "source": [
        "plt.plot(history.history['accuracy'])"
      ]
    },
    {
      "cell_type": "markdown",
      "metadata": {
        "collapsed": true,
        "id": "J5PyHZyBNGkZ"
      },
      "source": [
        "### Plot the accuracy of training and validation set"
      ]
    },
    {
      "cell_type": "code",
      "execution_count": 188,
      "metadata": {
        "id": "Oazs0FAdNGka",
        "colab": {
          "base_uri": "https://localhost:8080/",
          "height": 282
        },
        "outputId": "14f3407a-9d39-4bd9-87f3-a34d8c4bd7a4"
      },
      "outputs": [
        {
          "output_type": "execute_result",
          "data": {
            "text/plain": [
              "[<matplotlib.lines.Line2D at 0x7f425fe1db50>]"
            ]
          },
          "metadata": {},
          "execution_count": 188
        },
        {
          "output_type": "display_data",
          "data": {
            "text/plain": [
              "<Figure size 432x288 with 1 Axes>"
            ],
            "image/png": "[encoded data removed]"
          },
          "metadata": {
            "needs_background": "light"
          }
        }
      ],
      "source": [
        "plt.plot(history.history['accuracy'])\n",
        "plt.plot(history.history['val_accuracy'])"
      ]
    },
    {
      "cell_type": "markdown",
      "metadata": {
        "collapsed": true,
        "id": "T5UE4chVNGka"
      },
      "source": [
        "### Accuracy of training and validation with loss"
      ]
    },
    {
      "cell_type": "code",
      "execution_count": 189,
      "metadata": {
        "id": "GK0iKXqgNGka",
        "colab": {
          "base_uri": "https://localhost:8080/",
          "height": 282
        },
        "outputId": "9793f867-a81b-4f0c-ed34-d56365a16763"
      },
      "outputs": [
        {
          "output_type": "execute_result",
          "data": {
            "text/plain": [
              "[<matplotlib.lines.Line2D at 0x7f4260e5cd00>]"
            ]
          },
          "metadata": {},
          "execution_count": 189
        },
        {
          "output_type": "display_data",
          "data": {
            "text/plain": [
              "<Figure size 432x288 with 1 Axes>"
            ],
            "image/png": "[encoded data removed]"
          },
          "metadata": {
            "needs_background": "light"
          }
        }
      ],
      "source": [
        "plt.plot(history.history['loss'])"
      ]
    },
    {
      "cell_type": "markdown",
      "metadata": {
        "collapsed": true,
        "id": "nR8c7XecNGkb"
      },
      "source": [
        "## Run a prediction"
      ]
    },
    {
      "cell_type": "code",
      "execution_count": 190,
      "metadata": {
        "id": "jDqJXI5QNGkb",
        "colab": {
          "base_uri": "https://localhost:8080/"
        },
        "outputId": "ee1d3b4f-0108-44e0-ed7b-97b7fc874c2a"
      },
      "outputs": [
        {
          "output_type": "stream",
          "name": "stdout",
          "text": [
            "313/313 [==============================] - 1s 4ms/step - loss: 0.1274 - accuracy: 0.9827\n"
          ]
        }
      ],
      "source": [
        "score = model.evaluate(xtest,ytest)"
      ]
    },
    {
      "cell_type": "code",
      "execution_count": 191,
      "metadata": {
        "id": "8os93XRkNGkb",
        "colab": {
          "base_uri": "https://localhost:8080/"
        },
        "outputId": "8d958539-91be-4bcd-8daa-e86d85b40e3b"
      },
      "outputs": [
        {
          "output_type": "execute_result",
          "data": {
            "text/plain": [
              "[0.1274230033159256, 0.982699990272522]"
            ]
          },
          "metadata": {},
          "execution_count": 191
        }
      ],
      "source": [
        "score"
      ]
    }
  ],
  "metadata": {
    "kernelspec": {
      "display_name": "Python 3",
      "language": "python",
      "name": "python3"
    },
    "language_info": {
      "codemirror_mode": {
        "name": "ipython",
        "version": 3
      },
      "file_extension": ".py",
      "mimetype": "text/x-python",
      "name": "python",
      "nbconvert_exporter": "python",
      "pygments_lexer": "ipython3",
      "version": "3.5.4"
    },
    "colab": {
      "provenance": [],
      "include_colab_link": true
    }
  },
  "nbformat": 4,
  "nbformat_minor": 0
}